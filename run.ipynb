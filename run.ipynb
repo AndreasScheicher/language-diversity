{
 "cells": [
  {
   "cell_type": "code",
   "execution_count": 1,
   "id": "29611b43",
   "metadata": {},
   "outputs": [],
   "source": [
    "import os\n",
    "import pandas as pd\n",
    "from scipy.stats import spearmanr\n",
    "\n",
    "from src import config"
   ]
  },
  {
   "cell_type": "code",
   "execution_count": 2,
   "id": "fdd9bf7e",
   "metadata": {},
   "outputs": [],
   "source": [
    "language = 'german'\n",
    "folder = os.path.join(config.PROCESSED_DATA_DIR, language)\n",
    "hist = pd.read_csv(os.path.join(folder, 'hist_polysemy_score_german.csv'), sep=';', index_col=0)\n",
    "contemp = pd.read_csv(os.path.join(folder, 'contemp_polysemy_score_german.csv'), sep=';', index_col=0)\n",
    "conc = pd.read_csv(os.path.join(folder, 'concreteness_ger.csv'), sep=';', index_col='Word')"
   ]
  },
  {
   "cell_type": "code",
   "execution_count": 3,
   "id": "e6e35173",
   "metadata": {},
   "outputs": [],
   "source": [
    "def get_spearman_corr(df, column, name, conc=conc):\n",
    "    merged = pd.merge(left=conc, right=df[[column]], left_index=True, right_index=True, how='inner')\n",
    "    merged.dropna(inplace=True)\n",
    "\n",
    "    correlation, p_value = spearmanr(merged['concreteness'], merged[column])\n",
    "\n",
    "    print(f'Concreteness and {name}')\n",
    "    print(f'Spearman Correlation Coefficient: {correlation:.4f}')\n",
    "    print(f'P-value: {p_value:.4e}')"
   ]
  },
  {
   "cell_type": "code",
   "execution_count": 4,
   "id": "2996626c",
   "metadata": {},
   "outputs": [
    {
     "name": "stdout",
     "output_type": "stream",
     "text": [
      "Concreteness and Polysemy Score Evolution\n",
      "Spearman Correlation Coefficient: 0.4173\n",
      "P-value: 3.0188e-245\n"
     ]
    }
   ],
   "source": [
    "get_spearman_corr(hist, 'slope', 'Polysemy Score Evolution')"
   ]
  },
  {
   "cell_type": "code",
   "execution_count": 5,
   "id": "58012d6d",
   "metadata": {},
   "outputs": [
    {
     "name": "stdout",
     "output_type": "stream",
     "text": [
      "Concreteness and Contemporary Polysemy Score\n",
      "Spearman Correlation Coefficient: 0.0627\n",
      "P-value: 2.6267e-12\n"
     ]
    }
   ],
   "source": [
    "get_spearman_corr(contemp, 'contemp_polysemy_score', 'Contemporary Polysemy Score')"
   ]
  },
  {
   "cell_type": "code",
   "execution_count": 6,
   "id": "67edce8b",
   "metadata": {},
   "outputs": [
    {
     "name": "stdout",
     "output_type": "stream",
     "text": [
      "Concreteness and Historic Polysemy Score 1990s\n",
      "Spearman Correlation Coefficient: -0.0522\n",
      "P-value: 6.9536e-08\n"
     ]
    }
   ],
   "source": [
    "get_spearman_corr(hist, 'polysemy_score_1990', 'Historic Polysemy Score 1990s')"
   ]
  }
 ],
 "metadata": {
  "kernelspec": {
   "display_name": "Python 3 (ipykernel)",
   "language": "python",
   "name": "python3"
  },
  "language_info": {
   "codemirror_mode": {
    "name": "ipython",
    "version": 3
   },
   "file_extension": ".py",
   "mimetype": "text/x-python",
   "name": "python",
   "nbconvert_exporter": "python",
   "pygments_lexer": "ipython3",
   "version": "3.10.6"
  }
 },
 "nbformat": 4,
 "nbformat_minor": 5
}
