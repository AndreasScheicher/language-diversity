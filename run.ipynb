{
 "cells": [
  {
   "cell_type": "code",
   "execution_count": 1,
   "id": "29611b43",
   "metadata": {},
   "outputs": [],
   "source": [
    "import os\n",
    "import pandas as pd\n",
    "from scipy.stats import spearmanr\n",
    "import matplotlib.pyplot as plt\n",
    "import seaborn as sns\n",
    "\n",
    "from src import config"
   ]
  },
  {
   "cell_type": "code",
   "execution_count": 2,
   "id": "e6e35173",
   "metadata": {},
   "outputs": [],
   "source": [
    "def get_spearman_corr(df, column, name, conc, plot=False):\n",
    "    # create merged dataset\n",
    "    merged = pd.merge(left=conc, right=df[[column]], left_index=True, right_index=True, how='inner')\n",
    "    merged.dropna(inplace=True)\n",
    "    \n",
    "    # get spearman correlation\n",
    "    correlation, p_value = spearmanr(merged['concreteness'], merged[column])\n",
    "    \n",
    "    # print results\n",
    "    print(f'Concreteness and {name}')\n",
    "    print(f'Spearman Correlation Coefficient: {correlation:.4f}')\n",
    "    print(f'P-value: {p_value:.4e}')\n",
    "    \n",
    "    if plot:\n",
    "        # plot results and save figure\n",
    "        g = sns.jointplot(x=\"concreteness\", y=column, data=merged, \n",
    "                        kind=\"scatter\", joint_kws={\"s\": 20, \"alpha\": 0.2})\n",
    "        fig_name = f\"joinplot_concreteness_{column}.png\"\n",
    "        plt.subplots_adjust(left=0.2)\n",
    "        plt.savefig(os.path.join(config.FIGURES_DIR, fig_name), bbox_inches='tight')\n",
    "        plt.show()\n",
    "    "
   ]
  },
  {
   "cell_type": "code",
   "execution_count": 3,
   "id": "fdd9bf7e",
   "metadata": {},
   "outputs": [],
   "source": [
    "def run(language):\n",
    "    folder = os.path.join(config.PROCESSED_DATA_DIR, language)\n",
    "    hist = pd.read_csv(os.path.join(folder, f'hist_polysemy_score_{language}.csv'), sep=';', index_col=0)\n",
    "    contemp = pd.read_csv(os.path.join(folder, f'contemp_polysemy_score_{language}.csv'), sep=';', index_col=0)\n",
    "    conc = pd.read_csv(os.path.join(folder, f'concreteness_{language}.csv'), sep=';', index_col='Word')\n",
    "\n",
    "    get_spearman_corr(hist, 'slope', f'Polysemy Score Evolution {language}', conc)\n",
    "    get_spearman_corr(contemp, 'contemp_polysemy_score', f'Contemporary Polysemy Score {language}', conc)\n",
    "    get_spearman_corr(hist, 'polysemy_score_1990', f'Historic Polysemy Score 1990s {language}', conc)"
   ]
  },
  {
   "cell_type": "markdown",
   "metadata": {},
   "source": [
    "## German"
   ]
  },
  {
   "cell_type": "code",
   "execution_count": 4,
   "id": "2996626c",
   "metadata": {},
   "outputs": [
    {
     "name": "stdout",
     "output_type": "stream",
     "text": [
      "Concreteness and Polysemy Score Evolution german\n",
      "Spearman Correlation Coefficient: 0.2739\n",
      "P-value: 1.1263e-26\n",
      "Concreteness and Contemporary Polysemy Score german\n",
      "Spearman Correlation Coefficient: 0.1302\n",
      "P-value: 4.4611e-12\n",
      "Concreteness and Historic Polysemy Score 1990s german\n",
      "Spearman Correlation Coefficient: 0.0213\n",
      "P-value: 3.6167e-01\n"
     ]
    }
   ],
   "source": [
    "run(language=\"german\")"
   ]
  },
  {
   "cell_type": "markdown",
   "id": "74deb1fe",
   "metadata": {},
   "source": [
    "## English"
   ]
  },
  {
   "cell_type": "code",
   "execution_count": 5,
   "metadata": {},
   "outputs": [
    {
     "name": "stdout",
     "output_type": "stream",
     "text": [
      "Concreteness and Polysemy Score Evolution english\n",
      "Spearman Correlation Coefficient: -0.0542\n",
      "P-value: 4.0462e-11\n",
      "Concreteness and Contemporary Polysemy Score english\n",
      "Spearman Correlation Coefficient: 0.3751\n",
      "P-value: 0.0000e+00\n",
      "Concreteness and Historic Polysemy Score 1990s english\n",
      "Spearman Correlation Coefficient: -0.3520\n",
      "P-value: 0.0000e+00\n"
     ]
    }
   ],
   "source": [
    "run(language=\"english\")"
   ]
  },
  {
   "cell_type": "markdown",
   "metadata": {},
   "source": [
    "## French"
   ]
  },
  {
   "cell_type": "code",
   "execution_count": 6,
   "metadata": {},
   "outputs": [
    {
     "name": "stdout",
     "output_type": "stream",
     "text": [
      "Concreteness and Polysemy Score Evolution french\n",
      "Spearman Correlation Coefficient: -0.3043\n",
      "P-value: 6.8459e-25\n",
      "Concreteness and Contemporary Polysemy Score french\n",
      "Spearman Correlation Coefficient: 0.0626\n",
      "P-value: 1.9309e-02\n",
      "Concreteness and Historic Polysemy Score 1990s french\n",
      "Spearman Correlation Coefficient: -0.4069\n",
      "P-value: 1.4084e-49\n"
     ]
    }
   ],
   "source": [
    "run(language=\"french\")"
   ]
  },
  {
   "cell_type": "code",
   "execution_count": null,
   "metadata": {},
   "outputs": [],
   "source": []
  },
  {
   "cell_type": "markdown",
   "metadata": {},
   "source": [
    "## Compare cutoff percentiles "
   ]
  },
  {
   "cell_type": "code",
   "execution_count": 7,
   "metadata": {},
   "outputs": [],
   "source": [
    "# load regerence dataset\n",
    "polysemy_reference = pd.read_csv(\"data/external/english/concreteness_w_definition.csv\", usecols=[\"Word\"])\n",
    "polysemy_reference = polysemy_reference.value_counts().reset_index()\n",
    "polysemy_reference.set_index('Word', drop=True, inplace=True)"
   ]
  },
  {
   "cell_type": "code",
   "execution_count": 8,
   "metadata": {},
   "outputs": [
    {
     "name": "stdout",
     "output_type": "stream",
     "text": [
      "Cutoff Percentile: 75\n",
      "Correlation: 0.09696642928195091\n",
      "\n",
      "Cutoff Percentile: 80\n",
      "Correlation: 0.10326978117923387\n",
      "\n",
      "Cutoff Percentile: 85\n",
      "Correlation: 0.11168319754831471\n",
      "\n",
      "Cutoff Percentile: 90\n",
      "Correlation: 0.12709812713166904\n",
      "\n",
      "Cutoff Percentile: 95\n",
      "Correlation: 0.15493007744129927\n",
      "\n",
      "Cutoff Percentile: 96\n",
      "Correlation: 0.1598535210175586\n",
      "\n",
      "Cutoff Percentile: 97\n",
      "Correlation: 0.16541104820575556\n",
      "\n",
      "Cutoff Percentile: 98\n",
      "Correlation: 0.16891976528187158\n",
      "\n",
      "Cutoff Percentile: 99\n",
      "Correlation: 0.16370377867411312\n",
      "\n"
     ]
    }
   ],
   "source": [
    "for cutoff_percentile in [75, 80, 85, 90, 95, 96, 97, 98, 99]:\n",
    "    print(f\"Cutoff Percentile: {cutoff_percentile}\")\n",
    "    contemp = pd.read_csv(f\"data/processed/english/contemp_polysemy_score_english_{cutoff_percentile}.csv\", sep=';', index_col=0)\n",
    "    merged = contemp.merge(polysemy_reference, how='inner', left_index=True, right_index=True)\n",
    "    correlation = merged.corr('spearman')[0].loc['contemp_polysemy_score']\n",
    "    print(f\"Correlation: {correlation}\")\n",
    "    print()"
   ]
  },
  {
   "cell_type": "code",
   "execution_count": null,
   "metadata": {},
   "outputs": [],
   "source": []
  }
 ],
 "metadata": {
  "kernelspec": {
   "display_name": "Python 3 (ipykernel)",
   "language": "python",
   "name": "python3"
  },
  "language_info": {
   "codemirror_mode": {
    "name": "ipython",
    "version": 3
   },
   "file_extension": ".py",
   "mimetype": "text/x-python",
   "name": "python",
   "nbconvert_exporter": "python",
   "pygments_lexer": "ipython3",
   "version": "3.10.6"
  }
 },
 "nbformat": 4,
 "nbformat_minor": 5
}
